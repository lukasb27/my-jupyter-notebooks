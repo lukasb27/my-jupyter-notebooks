{
 "cells": [
  {
   "cell_type": "markdown",
   "metadata": {},
   "source": [
    "<h1> Kubernetes jupyter notebook </h1>\n",
    "\n",
    "Sometimes it might be necessary to exec onto a pod. <br>\n",
    "You can get all the pods in a specific app deployment using the below command:\n",
    "> kubectl get --no-headers=true pods -l app=APP_NAME -o custom-columns=:metadata.name \n",
    "\n",
    "Once you have the pod name you can exec onto it using the following command:\n",
    "> kubectl exec --stdin --tty POD_NAME -- /bin/bash\n",
    "\n",
    "Sometimes you might want to create a secret using a file, i dont want to store it in plaintext.\n",
    "> $ kubectl create secret generic my-ssh-key --from-file=ssh-privatekey=~/.ssh/id_rsa --from-file=ssh-publickey=~/.ssh/id_rsa.pub\n"
   ]
  }
 ],
 "metadata": {
  "language_info": {
   "codemirror_mode": {
    "name": "ipython",
    "version": 3
   },
   "file_extension": ".py",
   "mimetype": "text/x-python",
   "name": "python",
   "nbconvert_exporter": "python",
   "pygments_lexer": "ipython3",
   "version": 3
  }
 },
 "nbformat": 4,
 "nbformat_minor": 2
}
